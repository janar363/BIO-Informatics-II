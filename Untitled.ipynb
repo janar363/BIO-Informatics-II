{
 "cells": [
  {
   "cell_type": "code",
   "execution_count": 1,
   "id": "a91d4f89-4084-4456-bb6a-4e25c726937e",
   "metadata": {},
   "outputs": [
    {
     "name": "stdout",
     "output_type": "stream",
     "text": [
      "Collecting biopython\n",
      "  Downloading biopython-1.83.tar.gz (19.4 MB)\n",
      "\u001b[2K     \u001b[90m━━━━━━━━━━━━━━━━━━━━━━━━━━━━━━━━━━━━━━━\u001b[0m \u001b[32m19.4/19.4 MB\u001b[0m \u001b[31m650.6 kB/s\u001b[0m eta \u001b[36m0:00:00\u001b[0m00:01\u001b[0m00:01\u001b[0m\n",
      "\u001b[?25h  Preparing metadata (setup.py) ... \u001b[?25ldone\n",
      "\u001b[?25hRequirement already satisfied: numpy in ./anaconda3/lib/python3.10/site-packages (from biopython) (1.23.5)\n",
      "Building wheels for collected packages: biopython\n",
      "  Building wheel for biopython (setup.py) ... \u001b[?25ldone\n",
      "\u001b[?25h  Created wheel for biopython: filename=biopython-1.83-cp310-cp310-macosx_11_0_arm64.whl size=2657250 sha256=63b5f7f2b3736b8137507516cdfbc5deb1e5187b1f0dac05cbba13c65b954fd5\n",
      "  Stored in directory: /Users/janardhankarravula/Library/Caches/pip/wheels/26/20/29/81351d927a536c188ede5442eb4d5d2884f141bcbab83bad6a\n",
      "Successfully built biopython\n",
      "Installing collected packages: biopython\n",
      "Successfully installed biopython-1.83\n"
     ]
    }
   ],
   "source": [
    "!pip install biopython"
   ]
  },
  {
   "cell_type": "code",
   "execution_count": 9,
   "id": "fef35c89-23f2-4a0e-8e51-2798a635cbaf",
   "metadata": {},
   "outputs": [
    {
     "name": "stdout",
     "output_type": "stream",
     "text": [
      "0.33\n"
     ]
    }
   ],
   "source": [
    "from Bio.SeqUtils import gc_fraction\n",
    "seq = \"ACTTACGATCCATGATAT\"\n",
    "print(round(gc_fraction(seq), 2))"
   ]
  },
  {
   "cell_type": "code",
   "execution_count": 10,
   "id": "9e699756-0402-41e8-b4b7-96cf2a31dade",
   "metadata": {},
   "outputs": [
    {
     "name": "stdout",
     "output_type": "stream",
     "text": [
      "Janardhans-MacBook-Air.local\n"
     ]
    }
   ],
   "source": [
    "!hostname"
   ]
  },
  {
   "cell_type": "code",
   "execution_count": null,
   "id": "010167e2-cc87-4f3d-aae3-d499190a6614",
   "metadata": {},
   "outputs": [],
   "source": []
  }
 ],
 "metadata": {
  "kernelspec": {
   "display_name": "Python 3 (ipykernel)",
   "language": "python",
   "name": "python3"
  },
  "language_info": {
   "codemirror_mode": {
    "name": "ipython",
    "version": 3
   },
   "file_extension": ".py",
   "mimetype": "text/x-python",
   "name": "python",
   "nbconvert_exporter": "python",
   "pygments_lexer": "ipython3",
   "version": "3.10.9"
  }
 },
 "nbformat": 4,
 "nbformat_minor": 5
}
