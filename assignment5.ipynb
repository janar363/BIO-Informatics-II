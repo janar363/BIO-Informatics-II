{
 "cells": [
  {
   "cell_type": "markdown",
   "id": "4a7318cb-08ed-4b81-ac60-85973ea8c10d",
   "metadata": {},
   "source": [
    "# Problem 1"
   ]
  },
  {
   "cell_type": "code",
   "execution_count": 1,
   "id": "32b4f0ad-9a2c-4ef8-b1b9-d5152ca1d135",
   "metadata": {},
   "outputs": [
    {
     "name": "stdout",
     "output_type": "stream",
     "text": [
      "The Zen of Python, by Tim Peters\n",
      "\n",
      "Beautiful is better than ugly.\n",
      "Explicit is better than implicit.\n",
      "Simple is better than complex.\n",
      "Complex is better than complicated.\n",
      "Flat is better than nested.\n",
      "Sparse is better than dense.\n",
      "Readability counts.\n",
      "Special cases aren't special enough to break the rules.\n",
      "Although practicality beats purity.\n",
      "Errors should never pass silently.\n",
      "Unless explicitly silenced.\n",
      "In the face of ambiguity, refuse the temptation to guess.\n",
      "There should be one-- and preferably only one --obvious way to do it.\n",
      "Although that way may not be obvious at first unless you're Dutch.\n",
      "Now is better than never.\n",
      "Although never is often better than *right* now.\n",
      "If the implementation is hard to explain, it's a bad idea.\n",
      "If the implementation is easy to explain, it may be a good idea.\n",
      "Namespaces are one honking great idea -- let's do more of those!\n"
     ]
    }
   ],
   "source": [
    "import this"
   ]
  },
  {
   "cell_type": "markdown",
   "id": "90fe2ff5-e2b9-4128-9b94-71c7248dcb6a",
   "metadata": {},
   "source": [
    "# problem 2"
   ]
  },
  {
   "cell_type": "code",
   "execution_count": 15,
   "id": "21f326f4-4a6e-41a4-90e8-90385472004a",
   "metadata": {},
   "outputs": [
    {
     "name": "stdout",
     "output_type": "stream",
     "text": [
      "square of hypotenuse : 1762666\n"
     ]
    }
   ],
   "source": [
    "with open(\"rosalind_ini2.txt\") as f:\n",
    "    a, b = map(int, f.read().strip().split())\n",
    "\n",
    "print(\"square of hypotenuse :\", a ** 2 + b ** 2)"
   ]
  },
  {
   "cell_type": "markdown",
   "id": "1543bf84-d517-4cd2-b519-5760446de5b2",
   "metadata": {},
   "source": [
    "# problem 3"
   ]
  },
  {
   "cell_type": "code",
   "execution_count": 16,
   "id": "570e5555-87b9-45a8-8450-44595bb5e307",
   "metadata": {},
   "outputs": [
    {
     "name": "stdout",
     "output_type": "stream",
     "text": [
      "Kinixys   africanus\n"
     ]
    }
   ],
   "source": [
    "with open(\"rosalind_ini3.txt\") as f:\n",
    "          string = f.readline().strip()\n",
    "          s1, e1, s2, e2 = map(int, f.readline().strip().split())\n",
    "\n",
    "print(string[s1:e1+1], \" \", string[s2:e2+1])"
   ]
  },
  {
   "cell_type": "markdown",
   "id": "4536ee53-d4bf-4100-bcf7-fba6208572c9",
   "metadata": {},
   "source": [
    "# problem 4"
   ]
  },
  {
   "cell_type": "code",
   "execution_count": 17,
   "id": "07f15e7d-c5a2-4c91-af50-e75825b345f3",
   "metadata": {},
   "outputs": [
    {
     "name": "stdout",
     "output_type": "stream",
     "text": [
      "sum of odd in range [4002, 8251] : 13019875\n"
     ]
    }
   ],
   "source": [
    "with open(\"rosalind_ini4.txt\") as f:\n",
    "          a, b = map(int, f.read().strip().split())\n",
    "          \n",
    "total = 0\n",
    "for num in range(a, b+1):\n",
    "    if num & 1: total += num\n",
    "\n",
    "print(f\"sum of odd in range [{a}, {b}] :\", total)"
   ]
  },
  {
   "cell_type": "markdown",
   "id": "ed75b039-1538-445c-b8e2-d2d6ca86d1cf",
   "metadata": {},
   "source": [
    "# problem 5"
   ]
  },
  {
   "cell_type": "code",
   "execution_count": 21,
   "id": "18640e5e-e892-4d3f-a57e-da6e9856b089",
   "metadata": {},
   "outputs": [
    {
     "name": "stdout",
     "output_type": "stream",
     "text": [
      "Some things in life are bad, they can really make you mad\n",
      "Other things just make you swear and curse\n",
      "When you're chewing on life's gristle, don't grumble give a whistle\n",
      "This will help things turn out for the best\n",
      "Always look on the bright side of life\n",
      "Always look on the right side of life\n",
      "If life seems jolly rotten, there's something you've forgotten\n",
      "And that's to laugh and smile and dance and sing\n",
      "When you're feeling in the dumps, don't be silly, chumps\n",
      "Just purse your lips and whistle, that's the thing\n",
      "So, always look on the bright side of death\n",
      "Just before you draw your terminal breath\n",
      "Life's a counterfeit and when you look at it\n",
      "Life's a laugh and death's the joke, it's true\n",
      "You see, it's all a show, keep them laughing as you go\n",
      "Just remember the last laugh is on you\n",
      "Always look on the bright side of life\n",
      "And always look on the right side of life\n",
      "Always look on the bright side of life\n",
      "And always look on the right side of life\n",
      "\n"
     ]
    }
   ],
   "source": [
    "with open(\"rosalind_ini5.txt\") as f:\n",
    "          even_index_lines_file = \"\".join([line for id, line in enumerate(f.readlines()) if id & 1])\n",
    "          \n",
    "print(even_index_lines_file)"
   ]
  },
  {
   "cell_type": "markdown",
   "id": "7d16402e-a416-4932-af8d-7561060be182",
   "metadata": {},
   "source": [
    "# problem 6"
   ]
  },
  {
   "cell_type": "code",
   "execution_count": 23,
   "id": "e570c517-b18d-4783-8598-d7120cc2c4a6",
   "metadata": {},
   "outputs": [
    {
     "name": "stdout",
     "output_type": "stream",
     "text": [
      "When   1\n",
      "I   2\n",
      "find   1\n",
      "myself   1\n",
      "in   4\n",
      "times   1\n",
      "of   11\n",
      "trouble   1\n",
      "Mother   2\n",
      "Mary   2\n",
      "comes   2\n",
      "to   3\n",
      "me   4\n",
      "Speaking   3\n",
      "words   7\n",
      "wisdom   7\n",
      "let   30\n",
      "it   36\n",
      "be   41\n",
      "And   3\n",
      "my   1\n",
      "hour   1\n",
      "darkness   1\n",
      "she   1\n",
      "is   4\n",
      "standing   1\n",
      "right   1\n",
      "front   1\n",
      "Let   6\n",
      "Whisper   4\n",
      "when   2\n",
      "the   4\n",
      "broken   1\n",
      "hearted   1\n",
      "people   1\n",
      "living   1\n",
      "world   1\n",
      "agree   1\n",
      "There   4\n",
      "will   5\n",
      "an   4\n",
      "answer   4\n",
      "For   1\n",
      "though   1\n",
      "they   2\n",
      "may   1\n",
      "parted   1\n",
      "there   2\n",
      "still   2\n",
      "a   2\n",
      "chance   1\n",
      "that   2\n",
      "see   1\n",
      "night   1\n",
      "cloudy   1\n",
      "light   1\n",
      "shines   1\n",
      "on   1\n",
      "Shine   1\n",
      "until   1\n",
      "tomorrow   1\n",
      "wake   1\n",
      "up   1\n",
      "sound   1\n",
      "music   1\n",
      "yeah   2\n"
     ]
    }
   ],
   "source": [
    "with open(\"rosalind_ini6.txt\") as f:\n",
    "        inp = f.read().strip()\n",
    "        \n",
    "ans = {}\n",
    "for word in inp.split():\n",
    "    if word not in ans:\n",
    "        ans[word] = 1\n",
    "    else: \n",
    "        ans[word] += 1\n",
    "        \n",
    "for word, count in ans.items():\n",
    "    print(word, \" \", count)"
   ]
  },
  {
   "cell_type": "code",
   "execution_count": null,
   "id": "247adf28-2f2a-4e42-8a72-6bdc251e731b",
   "metadata": {},
   "outputs": [],
   "source": []
  }
 ],
 "metadata": {
  "kernelspec": {
   "display_name": "Python 3 (ipykernel)",
   "language": "python",
   "name": "python3"
  },
  "language_info": {
   "codemirror_mode": {
    "name": "ipython",
    "version": 3
   },
   "file_extension": ".py",
   "mimetype": "text/x-python",
   "name": "python",
   "nbconvert_exporter": "python",
   "pygments_lexer": "ipython3",
   "version": "3.10.9"
  }
 },
 "nbformat": 4,
 "nbformat_minor": 5
}
