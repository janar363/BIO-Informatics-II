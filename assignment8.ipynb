{
 "cells": [
  {
   "cell_type": "code",
   "execution_count": 1,
   "id": "5d71e4e0-0bf1-4585-a710-4191bf16c68c",
   "metadata": {},
   "outputs": [
    {
     "name": "stdout",
     "output_type": "stream",
     "text": [
      "Requirement already satisfied: biopython in /Users/janardhankarravula/anaconda3/lib/python3.10/site-packages (1.83)\n",
      "Requirement already satisfied: numpy in /Users/janardhankarravula/anaconda3/lib/python3.10/site-packages (from biopython) (1.23.5)\n"
     ]
    }
   ],
   "source": [
    "!pip install biopython"
   ]
  },
  {
   "cell_type": "code",
   "execution_count": 6,
   "id": "17216ee8-a381-43c1-9d65-4ba513688635",
   "metadata": {},
   "outputs": [],
   "source": [
    "with open('reads/bacterium_R1.fastq') as f:\n",
    "    forwardReads = f.readlines()\n",
    "    \n",
    "with open('reads/bacterium_R2.fastq') as f:\n",
    "    reverseReads = f.readlines()\n",
    "    "
   ]
  },
  {
   "cell_type": "code",
   "execution_count": 14,
   "id": "76bdaf51-7184-41e7-af2c-fe4dafb82110",
   "metadata": {},
   "outputs": [],
   "source": [
    "with open('assignment8_output_no_biop.fastq', 'w') as output:\n",
    "    output.seek(0)\n",
    "    output.truncate()\n",
    "    \n",
    "    interleavedLines = []\n",
    "    for i in range(0, min(len(forwardReads), len(reverseReads)), 4):\n",
    "        interleavedLines.extend(forwardReads[i:i+4])\n",
    "\n",
    "        interleavedLines.extend(reverseReads[i:i+4])\n",
    "\n",
    "    output.writelines(interleavedLines)\n",
    "    output.truncate()"
   ]
  },
  {
   "cell_type": "code",
   "execution_count": 15,
   "id": "8c2a57ce-5ccd-4912-a7de-4c0191537526",
   "metadata": {},
   "outputs": [],
   "source": [
    "from Bio import SeqIO\n",
    "import sys\n",
    "\n",
    "# forward_reads = \"reads/bacterium_R1.fastq\"\n",
    "# reverse_reads = \"reads/bacterium_R2.fastq\"\n",
    "# interleaved_reads = \"assignment8_output_biop.fastq\"\n",
    "        \n",
    "def interleave_fastq(forward_file, reverse_file, output_file):\n",
    "    forward_iter = SeqIO.parse(forward_reads, \"fastq\")\n",
    "    reverse_iter = SeqIO.parse(reverse_reads, \"fastq\")\n",
    "\n",
    "    with open(interleaved_reads, \"w\") as output_handle:\n",
    "\n",
    "        for (fwd, rev) in zip(forward_iter, reverse_iter):\n",
    "\n",
    "            SeqIO.write(fwd, output_handle, \"fastq\")\n",
    "            SeqIO.write(rev, output_handle, \"fastq\")\n",
    "\n",
    "if __name__ == '__main__':\n",
    "    parser = argparse.ArgumentParser(description='Interleave Paired-End FASTQ Files')\n",
    "    parser.add_argument('forward_file', help='Forward reads FASTQ file')\n",
    "    parser.add_argument('reverse_file', help='Reverse reads FASTQ file')\n",
    "    parser.add_argument('output_file', help='Output interleaved FASTQ file')\n",
    "    args = parser.parse_args()\n",
    "    interleave_fastq(args.forward_file, args.reverse_file, args.output_file)"
   ]
  },
  {
   "cell_type": "code",
   "execution_count": null,
   "id": "50006abd-fe11-46fb-8b32-0f04a850d13d",
   "metadata": {},
   "outputs": [],
   "source": []
  },
  {
   "cell_type": "code",
   "execution_count": null,
   "id": "1dd0bdf7-8846-4163-b0ff-147c00d04954",
   "metadata": {},
   "outputs": [],
   "source": []
  }
 ],
 "metadata": {
  "kernelspec": {
   "display_name": "Python 3 (ipykernel)",
   "language": "python",
   "name": "python3"
  },
  "language_info": {
   "codemirror_mode": {
    "name": "ipython",
    "version": 3
   },
   "file_extension": ".py",
   "mimetype": "text/x-python",
   "name": "python",
   "nbconvert_exporter": "python",
   "pygments_lexer": "ipython3",
   "version": "3.10.9"
  }
 },
 "nbformat": 4,
 "nbformat_minor": 5
}
