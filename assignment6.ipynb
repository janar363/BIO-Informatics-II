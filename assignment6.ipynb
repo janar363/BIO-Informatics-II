{
 "cells": [
  {
   "cell_type": "markdown",
   "id": "18b752c6-aeef-481f-828e-ab170c9e7a8c",
   "metadata": {},
   "source": [
    "# problem 7"
   ]
  },
  {
   "cell_type": "code",
   "execution_count": 2,
   "id": "34e91dc8-5bd1-4281-a574-64a92f7e13ed",
   "metadata": {},
   "outputs": [
    {
     "name": "stdout",
     "output_type": "stream",
     "text": [
      "198\n",
      "223\n",
      "223\n",
      "236\n"
     ]
    }
   ],
   "source": [
    "with open('rosalind_dna.txt') as f:\n",
    "    dna = f.read().strip()\n",
    "\n",
    "count = {\n",
    "    'A': 0,\n",
    "    'C': 0,\n",
    "    'G': 0,\n",
    "    'T': 0\n",
    "}\n",
    "for ch in dna:\n",
    "    count[ch] += 1\n",
    "    \n",
    "for value in count.values():\n",
    "    print(value)\n",
    "    "
   ]
  },
  {
   "cell_type": "markdown",
   "id": "c74872ee-a616-47fd-8670-ce9015ae357a",
   "metadata": {},
   "source": [
    "# problem 8"
   ]
  },
  {
   "cell_type": "code",
   "execution_count": 8,
   "id": "04be4316-b7f7-41df-81df-0ebaee182caf",
   "metadata": {},
   "outputs": [
    {
     "name": "stdout",
     "output_type": "stream",
     "text": [
      "GTATGCAATCTCCCTTAGTAAGTGGGAAGCATGATGCATTGGTTCTTGGTTGCGCATTTCGCCGTTACAATCTGCTGACATTGCCCCGCGCATTAAGCGCATCACAAGCGAATGAGTGCTAGAGCCACACTTTCCCCAGAGCATGCAACAGTAAGTGGAATCTTAATTGTTAATCTTAAGCGTTTTCCCTTGCTGGTGTCCTAAGTGTTAAACTGCGGTTCACACCTGCCTTTAGGGACTATCAACACTCTAGTTCACTCGTGGTTTGGCTATAGCGGGTAATCACTTGTTCTATTTAACTAGGATTTCCGTTTCCGAAGTTGGTGTCTAGATCTTATTAAGACTTCGAGCAAACCCGAACTTAAACACAGCAATCTAAACCGGGATTTCATGTTGGGTCTATATTGACCGCCCACCGCACCTGCTTGAAATACGGGGGTGCTGAGCGATCAGGAATAGATACCCACTTTCACAGATCGCTTCTCTGGGCATGTGTTTGAGACACGGACCCAGCCATAGCCTTTGTCCCAAGAGTTCGAGGCTCAGTCGACTGTAAACATAGTCAGGGGGGTATACGGTGCGTGGTGCGCGATTTATATTAATTACGGTTGATCCGCCAAATTCGCATTCATCCTCCACCCTATCAGCGCATTCCTAGTGCATATGCAATGCCTAACCGAGCTCCGTTTACGTTTTACAAATAGCGGTAATTTATGTGGCGCAAGATAACTTTCAACGCGAGTCAAGTGTAAGTAGCTCGGTTCGGAGGATAGGCAGGGGATATATGAAGTCCTTTCAGCTCGGTTGAGTTAGGCTAAGATTGGAGTGATGGGCTGACTTGTAGGGCATACCCAATGCGCCCATTAGGCAAAAAAGAT\n"
     ]
    }
   ],
   "source": [
    "complements = {\n",
    "    'A': 'T', \n",
    "    'T': 'A',\n",
    "    'C': 'G',\n",
    "    'G': 'C'\n",
    "}\n",
    "\n",
    "with open('rosalind_revc.txt') as f:\n",
    "    dna = f.read().strip()[::-1]\n",
    "    \n",
    "rev_complement = \"\".join([complements[ch] for ch in dna])\n",
    "print(rev_complement)"
   ]
  },
  {
   "cell_type": "code",
   "execution_count": null,
   "id": "84b77073-3ed6-460a-aadc-950b47d80e27",
   "metadata": {},
   "outputs": [],
   "source": []
  }
 ],
 "metadata": {
  "kernelspec": {
   "display_name": "Python 3 (ipykernel)",
   "language": "python",
   "name": "python3"
  },
  "language_info": {
   "codemirror_mode": {
    "name": "ipython",
    "version": 3
   },
   "file_extension": ".py",
   "mimetype": "text/x-python",
   "name": "python",
   "nbconvert_exporter": "python",
   "pygments_lexer": "ipython3",
   "version": "3.10.9"
  }
 },
 "nbformat": 4,
 "nbformat_minor": 5
}
