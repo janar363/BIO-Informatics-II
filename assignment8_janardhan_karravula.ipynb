{
 "cells": [
  {
   "cell_type": "markdown",
   "id": "0fe8ef07-5243-4380-a86e-51629d1d01e0",
   "metadata": {},
   "source": [
    "# Problem 12"
   ]
  },
  {
   "cell_type": "code",
   "execution_count": 4,
   "id": "6803d57a-930f-48ed-b711-e732e0977715",
   "metadata": {},
   "outputs": [
    {
     "name": "stdout",
     "output_type": "stream",
     "text": [
      "3048504677680\n"
     ]
    }
   ],
   "source": [
    "dp = {}\n",
    "def rabbit_pairs(n, k):\n",
    "    if n in dp: return dp\n",
    "    if n == 1 or n == 2:\n",
    "        return 1\n",
    "\n",
    "    f_n_2 = 1\n",
    "    f_n_1 = 1\n",
    "\n",
    "    for i in range(3, n + 1):\n",
    "        f_n = k * f_n_2 + f_n_1\n",
    "        f_n_2 = f_n_1\n",
    "        f_n_1 = f_n\n",
    "    \n",
    "    dp[n] = f_n\n",
    "    return f_n\n",
    "\n",
    "print(rabbit_pairs(36, 3)) "
   ]
  },
  {
   "cell_type": "markdown",
   "id": "e5ec4b63-d263-4dbe-a623-3bf80e519928",
   "metadata": {},
   "source": [
    "# problem 13"
   ]
  },
  {
   "cell_type": "code",
   "execution_count": 7,
   "id": "db95cbca-7a07-46ba-b90e-a5ec620304f4",
   "metadata": {},
   "outputs": [
    {
     "name": "stdout",
     "output_type": "stream",
     "text": [
      "470\n"
     ]
    }
   ],
   "source": [
    "A = \"CCCCAACAAAAAATAGAGGCGTCAGGCAAGATATAGCGTGTGCTGCAGATAAGTCTTACGTATGACCCCGAGCTCGCTACGTAACTCTTTTTGGAAGTTGACTGGGCGAGCAACGTATTGGAGCTACCAGACAGTTCGGTCCGGTTCAACACGCGCATGAACCCCTAGCCGTTACGAGCTGTCCATTCGAAGAACTCACATGGTTACGCAGGGTCGCAGGCCCGGCGCAAGTAAATTTCAGCTGCAACACAGCCGTTCTAGGCCAACGATGTCTTCTGAGTGCTGGGTCACTAGGTATGCAGGTTCCGGAGGGTAAAATAATATTCTACATTGAAAGCACGATCAGCAATGCTTAGCGCCTATTTTGCAGGCCTGTTGGATTCACCATAGCTGTAGGACTTTTGCTCCCGTGATCGAAACCTATGGTGACTCGGCGAATAAATTCCGGCACCATGCTGATGAGGTATCAAATTCGATGGCTTACTACGTTAACCCCTACGACCGGCTTCTACTGGATCAAACGACCAAGTTCGTCCATAATTTCACGTCGATAGGAACTTAAAGGAACATGGACAGGCTGACTGTTACCTTCGAAGATGTCCTATCCTTACGCCCAAGCCGGACGAAAAACAGCTACGAATATGGTGAGACTGTCGTCTTGCTTGCGGTAGATGTGATTGTTATTTGTTTAGCCTGTACGTACCTATGCCAATTCACAAACCTTAGCCAATGTTCCCACCAGGGCTCGGCATCGGTACCCGGAAATGATTTATGGGTAAGCACGAGGAAACATACACCGATGTAAAGTTACATACGTGTGTTGATGAGTTCTTGGGTGTTCATGAGCAGTTTCTACTTCACTGCCTAACACCTGGATACATTGAGTAACGCAGATCATTCTAAACT\"\n",
    "B = \"CCCGAATTGAACATAATGTTGTGGGCCCAGGCATCCCCTAGGATTGGCTAAGGTCGTTTTGATGACCCCGCTCTTCCTATCGTTCTATTTTGGTACAAATAATTATCGATAACCGGATTGAAACTTCCTGTCCGTTCGCCACAGTTAGACCCGCACGTCAACCGTGAGGATGTTAAGTCCGTCCAGGCGAAGTACTGCGAGTCACTCGCACAGCGTGACCCCTAAGTCAAGCAACAATGAGCTTCCACGGACTCAATATTCGCCAACTATGTCCGCAGGCTCGTTGGAAGCGGGGAAGGCGGGTCTCGGCAGTACAGAAGATATAGGCCGTCGCAAGTAAGGGAACTGATGTAAATTTACCCCTCAGCACGGATGGTGCGTACACGCTAGTCAGAGGCCTCAATATCCTCCGAAGGGCACCGTTTGCGATGCGCCCCTAAATCCTCTGTAACCTTCTGGCTGCGTAAATGGTACAAAGGCGCCTAACCTTAAGTTGGGCGCCCCAACGTTTCCGGACGAAACATAGACGTCGATACATGCGTTCAAGTGGAAAGTAAGATGAGCGAATTTCATGAATCCTATTTTCTACAGGATTCATTGGAGGTTGATACGATGATTCTCAACGACACACCGCATACTAGCTGATTGACCTGTGGCCCCCGTAGCGTTGAAAGATATTGTAACTGGGACAGCCAGTGTGACGGTAAAGCAATTCATTAGCCCTCACTGGAGTAGCTACAAGCGGACCCCATCCTCACCAGGTGAGCAAGTAATCGCGAGGAACCAGTAGCAGATCCCGAAAGACACTTACTTCAGTAGGAATTTCCGATATTGCATCCTATCGCCAGCCATAATGGACAATTTAACAATCCTTGCTACACGGAATGGCGCAGTACTTTGCAAACT\"\n",
    "\n",
    "hamming_dist = 0\n",
    "for i in range(len(A)):\n",
    "    if A[i] != B[i]: hamming_dist += 1\n",
    "    \n",
    "print(hamming_dist)"
   ]
  },
  {
   "cell_type": "markdown",
   "id": "642bebc6-6c5b-4241-978f-22ecdbb0fcc5",
   "metadata": {},
   "source": [
    "# Problem 14"
   ]
  },
  {
   "cell_type": "code",
   "execution_count": 10,
   "id": "7474ee78-e2bd-4ced-9aeb-8405880e999e",
   "metadata": {},
   "outputs": [
    {
     "name": "stdout",
     "output_type": "stream",
     "text": [
      "0.7527952480782669\n"
     ]
    }
   ],
   "source": [
    "with open(\"rosalind_iprb.txt\") as f:\n",
    "    k, m, n = list(map(int, f.read().strip().split()))\n",
    "    \n",
    "total = k+m+n\n",
    "prob_n_n = (n/total)*((n-1)/(total-1))\n",
    "prob_m_m = (m/total)*((m-1)/(total-1))\n",
    "prob_m_n = (n/total)*(m/(total-1)) + (m/total)*(n/(total-1))\n",
    "\n",
    "prob_n = prob_n_n + prob_m_m * 1/4 + prob_m_n * 1/2\n",
    "print(1-prob_n) "
   ]
  },
  {
   "cell_type": "code",
   "execution_count": null,
   "id": "27742cfc-5d2d-4d07-8c4a-d69d1db62489",
   "metadata": {},
   "outputs": [],
   "source": []
  }
 ],
 "metadata": {
  "kernelspec": {
   "display_name": "Python 3 (ipykernel)",
   "language": "python",
   "name": "python3"
  },
  "language_info": {
   "codemirror_mode": {
    "name": "ipython",
    "version": 3
   },
   "file_extension": ".py",
   "mimetype": "text/x-python",
   "name": "python",
   "nbconvert_exporter": "python",
   "pygments_lexer": "ipython3",
   "version": "3.10.9"
  }
 },
 "nbformat": 4,
 "nbformat_minor": 5
}
